{
 "cells": [
  {
   "cell_type": "code",
   "execution_count": 1,
   "metadata": {},
   "outputs": [
    {
     "name": "stdout",
     "output_type": "stream",
     "text": [
      "Addition: 13\n",
      "Subtraction: 7\n",
      "Multiplicaton: 30\n",
      "Division: 3.3333333333333335\n",
      "Modulus: 1\n",
      "Exponentiaton: 1000\n",
      "Floor Division: 3\n"
     ]
    }
   ],
   "source": [
    "#p1e1\n",
    "a=int(input(\"Enter first number\"))\n",
    "b=int(input(\"Enter second number\"))\n",
    "#this statement shows the arithmetic operators\n",
    "print(\"Addition:\",a+b)\n",
    "print(\"Subtraction:\",a-b)\n",
    "print(\"Multiplicaton:\",a*b)\n",
    "print(\"Division:\",a/b)\n",
    "print(\"Modulus:\",a%b)\n",
    "print(\"Exponentiaton:\",a**b)\n",
    "print(\"Floor Division:\",a//b)"
   ]
  },
  {
   "cell_type": "code",
   "execution_count": 2,
   "metadata": {},
   "outputs": [
    {
     "name": "stdout",
     "output_type": "stream",
     "text": [
      "First number is lesser than or equal to Second number\n"
     ]
    }
   ],
   "source": [
    "#p1e2\n",
    "a=int(input(\"Enter first number:\"))\n",
    "b=int(input(\"Enter second number:\"))\n",
    "#this statement checks First number is greater than second number\n",
    "if a>b:\n",
    "    print(\"First number is greater than Second number\")\n",
    "#this statement checks First number is equal to second number\n",
    "elif a==b:\n",
    "    print(\"First number is equal to Second number\")\n",
    "##this statement checks first number is lesser than or equal to second number\n",
    "elif a<=b:\n",
    "    print(\"First number is lesser than or equal to Second number\")"
   ]
  },
  {
   "cell_type": "code",
   "execution_count": 3,
   "metadata": {},
   "outputs": [
    {
     "name": "stdout",
     "output_type": "stream",
     "text": [
      "True\n",
      "True\n",
      "False\n",
      "False\n"
     ]
    }
   ],
   "source": [
    "#p1e3\n",
    "a= bool(input(\"Enter the first boolean value\"))\n",
    "b= bool(input(\"Enter the second boolean value\"))\n",
    "c= bool(input(\"Enter the third boolean value\"))\n",
    "#using and/or operator on boolean\n",
    "resultand= a and b and c\n",
    "resultor= a or b or c\n",
    "#using not and/not or operators on boolean\n",
    "resultnotand= not a and not b and not c\n",
    "resultnotor= not a or not b or not c\n",
    "print(resultand)\n",
    "print(resultor)\n",
    "print(resultnotand)\n",
    "print(resultnotor)"
   ]
  },
  {
   "cell_type": "code",
   "execution_count": 4,
   "metadata": {},
   "outputs": [
    {
     "name": "stdout",
     "output_type": "stream",
     "text": [
      "Hello ronald  , you are 21 years old.\n"
     ]
    }
   ],
   "source": [
    "#p2e5\n",
    "a= input(\"What is your name?\")\n",
    "b= input(\"How old are you?\")\n",
    "#this statement contains the user input of name and age\n",
    "print(\"Hello\", a, \", you are\", b,\"years old.\")"
   ]
  },
  {
   "cell_type": "code",
   "execution_count": 5,
   "metadata": {},
   "outputs": [
    {
     "name": "stdout",
     "output_type": "stream",
     "text": [
      "The word hello world exists in the sentence at index 6\n"
     ]
    }
   ],
   "source": [
    "#p2e6\n",
    "word= input(\"Enter a word\")\n",
    "substring= input(\"Enter a word to search:\")\n",
    "Index= word.find(substring)\n",
    "#this statement checks the substring is in the word\n",
    "if substring in word:\n",
    "    print(\"The word\",word, \"exists in the sentence at index\", Index)\n",
    "#this statment checks the above statement is ture, if its false  then it comes to the else statemnet\n",
    "else:\n",
    "    print(\"The word is not in sentence\")"
   ]
  },
  {
   "cell_type": "code",
   "execution_count": 7,
   "metadata": {},
   "outputs": [
    {
     "name": "stdout",
     "output_type": "stream",
     "text": [
      "15\n",
      "1 5\n"
     ]
    }
   ],
   "source": [
    "#p3e7\n",
    "#this gets the user input range\n",
    "numbers=[]\n",
    "#we have set the range count to 5\n",
    "for x in range(5):\n",
    "    #we are getiing the user input\n",
    "    number= int(input())\n",
    "#append is to add an additional user input\n",
    "    numbers.append(number)\n",
    "#this statement executes the sum function\n",
    "Sum= sum(numbers)\n",
    "print(Sum)\n",
    "#this statement is used to check the minimum and maximum value of the user input \n",
    "print(min(numbers), max(numbers))\n"
   ]
  },
  {
   "cell_type": "code",
   "execution_count": 8,
   "metadata": {},
   "outputs": [
    {
     "name": "stdout",
     "output_type": "stream",
     "text": [
      "['blueberry', 'mango', 'grapes', 'fig', 'kiwi']\n"
     ]
    }
   ],
   "source": [
    "#p3e8\n",
    "fruits=['blueberry', 'apple','mango','grapes','fig']\n",
    "#this statements add an user input\n",
    "fruits.append('kiwi')\n",
    "#this statement removes an user input\n",
    "fruits.pop(1)\n",
    "print(fruits)"
   ]
  },
  {
   "cell_type": "code",
   "execution_count": 9,
   "metadata": {},
   "outputs": [
    {
     "name": "stdout",
     "output_type": "stream",
     "text": [
      "Asending: [1, 2, 3, 4, 5]\n",
      "Desending: [5, 4, 3, 2, 1]\n"
     ]
    }
   ],
   "source": [
    "#p3e9\n",
    "#this gets the user input range\n",
    "numbers=[]\n",
    "#we have set the user count from 0 to 5\n",
    "for x in range(0,5):\n",
    "#we sre getiing the user input\n",
    "    number=int(input())\n",
    " #append is to add an additional user input\n",
    "    numbers.append(number)\n",
    "#sort is to asend the given inputs\n",
    "numbers.sort()\n",
    "print('Asending:',numbers)\n",
    "#sort with reverse is to show the desend outputs if its ture\n",
    "numbers.sort(reverse=True)\n",
    "print('Desending:',numbers)"
   ]
  },
  {
   "cell_type": "code",
   "execution_count": 10,
   "metadata": {},
   "outputs": [
    {
     "name": "stdout",
     "output_type": "stream",
     "text": [
      "[1, 2, 3, 4, 5]\n",
      "[6, 7, 8, 9, 10]\n",
      "[3, 4, 5, 6, 7]\n"
     ]
    }
   ],
   "source": [
    "#p3e10\n",
    "numbers=[1,2,3,4,5,6,7,8,9,10]\n",
    "#the output shows the numbers between 0 to 5\n",
    "print(numbers[0:5])\n",
    "#the output shows the last 5 numbers\n",
    "print(numbers[-5:])\n",
    "#the output show the numbers between 2 to 7\n",
    "print(numbers[2:7])"
   ]
  },
  {
   "cell_type": "code",
   "execution_count": 11,
   "metadata": {},
   "outputs": [
    {
     "name": "stdout",
     "output_type": "stream",
     "text": [
      "6\n",
      "r d\n",
      "dlanor\n",
      "RONALD ronald\n"
     ]
    }
   ],
   "source": [
    "#p2e4\n",
    "a= input(\"Enter a name:\")\n",
    "#this statement checks the length of the string\n",
    "print(len(a))\n",
    "#this statement checks show the first and last letter of the string\n",
    "print(a[0], a[-1])\n",
    "#this statement reverses the string\n",
    "print(a[::-1])\n",
    "#this statement shows how to use the upper and lower cases\n",
    "print(a.upper(), a.lower())\n"
   ]
  },
  {
   "cell_type": "code",
   "execution_count": null,
   "metadata": {},
   "outputs": [],
   "source": []
  }
 ],
 "metadata": {
  "kernelspec": {
   "display_name": "Python 3",
   "language": "python",
   "name": "python3"
  },
  "language_info": {
   "codemirror_mode": {
    "name": "ipython",
    "version": 3
   },
   "file_extension": ".py",
   "mimetype": "text/x-python",
   "name": "python",
   "nbconvert_exporter": "python",
   "pygments_lexer": "ipython3",
   "version": "3.12.6"
  }
 },
 "nbformat": 4,
 "nbformat_minor": 2
}
